{
 "cells": [
  {
   "cell_type": "code",
   "execution_count": 12,
   "metadata": {},
   "outputs": [
    {
     "name": "stderr",
     "output_type": "stream",
     "text": [
      "Usage of abort_on_error is deprecated. Use abort_on_first instead.\n"
     ]
    },
    {
     "name": "stdout",
     "output_type": "stream",
     "text": [
      "Added triples:  7\n",
      "{rdflib.term.URIRef('https://ontology.tno.nl/logistics/federated/LogisticsRoles#Producer'), rdflib.term.URIRef('https://ontology.tno.nl/logistics/federated/LogisticsRoles#Forwarder'), rdflib.term.URIRef('https://ontology.tno.nl/logistics/federated/LogisticsRoles#Consignor'), rdflib.term.URIRef('https://ontology.tno.nl/logistics/federated/LogisticsRoles#Declarant'), rdflib.term.URIRef('https://ontology.tno.nl/logistics/federated/LogisticsRoles#Authority'), rdflib.term.URIRef('https://ontology.tno.nl/logistics/federated/LogisticsRoles#ShuntingYard'), rdflib.term.URIRef('https://ontology.tno.nl/logistics/federated/BusinessService#c'), rdflib.term.URIRef('https://ontology.tno.nl/logistics/federated/LogisticsRoles#Consumer')}\n"
     ]
    }
   ],
   "source": [
    "from rdflib import Graph, URIRef\n",
    "from pyshacl import validate\n",
    "\n",
    "shapes = Graph()\n",
    "shapes.parse('shaclRules.ttl', format='ttl')\n",
    "data_graph = Graph()\n",
    "data_graph.parse('ExampleForRules.ttl', format='ttl')\n",
    "\n",
    "data_graph_orig = Graph()\n",
    "for t in data_graph:\n",
    "    data_graph_orig.add(t)\n",
    "\n",
    "r = validate(data_graph,\n",
    "      shacl_graph=shapes,\n",
    "      #ont_graph=og,\n",
    "      inference='none', #here it can be added: rdfs, owlrl,both or none. \n",
    "      abort_on_error=False,\n",
    "      meta_shacl=False, \n",
    "      advanced=True,\n",
    "      js=False,\n",
    "      debug=True)\n",
    "\n",
    "conforms, results_graph, results_text = r\n",
    "\n",
    "added_triples = data_graph - data_graph_orig\n",
    "print('Added triples: ', len(added_triples))\n",
    "print(added_triples.all_nodes())\n"
   ]
  },
  {
   "cell_type": "code",
   "execution_count": 13,
   "metadata": {},
   "outputs": [
    {
     "name": "stdout",
     "output_type": "stream",
     "text": [
      "@prefix LogisticsRoles: <https://ontology.tno.nl/logistics/federated/LogisticsRoles#> .\n",
      "@prefix businessService: <https://ontology.tno.nl/logistics/federated/BusinessService#> .\n",
      "@prefix owl: <http://www.w3.org/2002/07/owl#> .\n",
      "@prefix rdfs: <http://www.w3.org/2000/01/rdf-schema#> .\n",
      "\n",
      "businessService:b a owl:NamedIndividual,\n",
      "        businessService:BusinessTransaction ;\n",
      "    businessService:involvedAuthority businessService:c ;\n",
      "    businessService:involvedConsignor businessService:c ;\n",
      "    businessService:involvedConsumer businessService:c ;\n",
      "    businessService:involvedDeclarant businessService:c ;\n",
      "    businessService:involvedForwarder businessService:c ;\n",
      "    businessService:involvedPayee businessService:c ;\n",
      "    businessService:involvedProducer businessService:c ;\n",
      "    businessService:involvedShuntingYard businessService:c .\n",
      "\n",
      "businessService:hasRole a owl:ObjectProperty .\n",
      "\n",
      "businessService:involvedConsumer a owl:ObjectProperty ;\n",
      "    rdfs:label \"involved consumer\" ;\n",
      "    rdfs:comment \"The realtionship between a business transaction and a consumer that has been instantiated as a businessService:legalperson.\" .\n",
      "\n",
      "businessService:involvedProducer a owl:ObjectProperty .\n",
      "\n",
      "businessService:BusinessTransaction a owl:Class ;\n",
      "    rdfs:label \"Business Transaction\" ;\n",
      "    rdfs:comment \"All data shared by interactions for executing a business service\" ;\n",
      "    rdfs:subClassOf owl:Thing .\n",
      "\n",
      "businessService:LegalPerson a owl:Class ;\n",
      "    rdfs:label \"Logistics Actor\" ;\n",
      "    rdfs:comment \"The role of a Person, Enterprise or Organization is context dependant, and therefore should be described using the LogisticsRoles:Roles class.\" ;\n",
      "    rdfs:subClassOf owl:Thing .\n",
      "\n",
      "LogisticsRoles:Consumer a owl:NamedIndividual,\n",
      "        LogisticsRoles:SupplyChainRoles ;\n",
      "    rdfs:label \"Consumer\" ;\n",
      "    rdfs:comment \"A consumer consumes the goods that were supplied through the supply chain.\" .\n",
      "\n",
      "LogisticsRoles:Producer a owl:NamedIndividual .\n",
      "\n",
      "LogisticsRoles:SupplyChainRoles a owl:Class ;\n",
      "    rdfs:label \"Supply Chain Roles\" ;\n",
      "    rdfs:comment \"These are roles that are found elsewhere in the supply chain than described by bussiness, commercial, financial or logistical roles. Such as the consumer or producer of products.\" .\n",
      "\n",
      "businessService:c a owl:NamedIndividual,\n",
      "        businessService:LegalPerson ;\n",
      "    businessService:hasRole LogisticsRoles:Authority,\n",
      "        LogisticsRoles:Consignor,\n",
      "        LogisticsRoles:Consumer,\n",
      "        LogisticsRoles:Declarant,\n",
      "        LogisticsRoles:Forwarder,\n",
      "        LogisticsRoles:Producer,\n",
      "        LogisticsRoles:ShuntingYard .\n",
      "\n",
      "[] a owl:Ontology ;\n",
      "    owl:imports <https://ontology.tno.nl/logistics/federated/BusinessService> .\n",
      "\n",
      "\n"
     ]
    }
   ],
   "source": [
    "print(data_graph.serialize(format=\"turtle\"))"
   ]
  },
  {
   "cell_type": "code",
   "execution_count": null,
   "metadata": {},
   "outputs": [],
   "source": []
  }
 ],
 "metadata": {
  "kernelspec": {
   "display_name": "Python 3",
   "language": "python",
   "name": "python3"
  },
  "language_info": {
   "codemirror_mode": {
    "name": "ipython",
    "version": 3
   },
   "file_extension": ".py",
   "mimetype": "text/x-python",
   "name": "python",
   "nbconvert_exporter": "python",
   "pygments_lexer": "ipython3",
   "version": "3.8.5"
  }
 },
 "nbformat": 4,
 "nbformat_minor": 4
}
